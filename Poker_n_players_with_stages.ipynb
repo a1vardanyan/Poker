{
 "cells": [
  {
   "cell_type": "code",
   "execution_count": 2,
   "id": "196b3eb1-ee66-4640-8d24-c56857bff2b4",
   "metadata": {},
   "outputs": [],
   "source": [
    "from treys import Evaluator, Deck, Card\n",
    "\n",
    "def calculate_win_probability(hand, board, num_opponents, total_simulations=10000):\n",
    "    evaluator = Evaluator()\n",
    "    wins = 0\n",
    "\n",
    "    for _ in range(total_simulations):\n",
    "        deck = Deck()\n",
    "        # Remove known cards from the deck\n",
    "        known_cards = [Card.new(card) for card in hand + board]\n",
    "        for card in known_cards:\n",
    "            deck.cards.remove(card)\n",
    "        \n",
    "        # Draw remaining community cards\n",
    "        remaining_board = [Card.new(card) for card in board] + deck.draw(5 - len(board))\n",
    "\n",
    "        # Evaluate player's hand\n",
    "        player_score = evaluator.evaluate(remaining_board, [Card.new(card) for card in hand])\n",
    "\n",
    "        # Simulate opponent's hands\n",
    "        opponent_scores = []\n",
    "        for _ in range(num_opponents):\n",
    "            opponent_hand = deck.draw(2)\n",
    "            opponent_score = evaluator.evaluate(remaining_board, opponent_hand)\n",
    "            opponent_scores.append(opponent_score)\n",
    "\n",
    "        # Check if player wins\n",
    "        if player_score < min(opponent_scores):\n",
    "            wins += 1\n",
    "\n",
    "    win_probability = wins / total_simulations\n",
    "    return win_probability"
   ]
  },
  {
   "cell_type": "code",
   "execution_count": 208,
   "id": "a6f3ae75-b7f8-4601-b9d9-9ff112c188f1",
   "metadata": {},
   "outputs": [
    {
     "name": "stdout",
     "output_type": "stream",
     "text": [
      "Estimated win probability Preflop: 74.56%\n",
      "Estimated win probability Postflop: 65.25%\n",
      "Estimated win probability Post-turn: 42.25%\n",
      "Estimated win probability Post-river: 56.73%\n"
     ]
    }
   ],
   "source": [
    "your_hand = ['Td', 'Tc']\n",
    "num_opponents = 1\n",
    "a = []\n",
    "b = ['7h', '4d', '5h']\n",
    "c = ['6s']\n",
    "d = ['7s']\n",
    "\n",
    "\n",
    "\n",
    "\n",
    "\n",
    "\n",
    "preflop = []\n",
    "postflop = b\n",
    "postturn = postflop + c\n",
    "postriver = postturn + d\n",
    "stages = {\n",
    "    \"Preflop\": preflop,\n",
    "    \"Postflop\": postflop,\n",
    "    \"Post-turn\": postturn,\n",
    "    \"Post-river\": postriver\n",
    "}\n",
    "# Calculate win probability for each stage\n",
    "for stage, board_cards in stages.items():\n",
    "    win_probability = calculate_win_probability(your_hand, board_cards, num_opponents)\n",
    "    print(f\"Estimated win probability {stage}: {win_probability * 100:.2f}%\")"
   ]
  },
  {
   "cell_type": "code",
   "execution_count": null,
   "id": "b5faa7f4-cbe3-4986-8eea-7172b15ea6d4",
   "metadata": {},
   "outputs": [],
   "source": []
  }
 ],
 "metadata": {
  "kernelspec": {
   "display_name": "Python 3 (ipykernel)",
   "language": "python",
   "name": "python3"
  },
  "language_info": {
   "codemirror_mode": {
    "name": "ipython",
    "version": 3
   },
   "file_extension": ".py",
   "mimetype": "text/x-python",
   "name": "python",
   "nbconvert_exporter": "python",
   "pygments_lexer": "ipython3",
   "version": "3.11.7"
  }
 },
 "nbformat": 4,
 "nbformat_minor": 5
}
